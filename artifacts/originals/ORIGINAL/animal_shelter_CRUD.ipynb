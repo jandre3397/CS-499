{
 "cells": [
  {
   "cell_type": "code",
   "execution_count": 1,
   "id": "a898cbdb",
   "metadata": {},
   "outputs": [
    {
     "name": "stdout",
     "output_type": "stream",
     "text": [
      "Create operation successful: True\n"
     ]
    }
   ],
   "source": [
    "from animal_shelter import AnimalShelter\n",
    "# Initialize the CRUD class with MongoDB credentials\n",
    "mongo = AnimalShelter(user=\"aacuser\", password=\"Jael2024\", host=\"nv-desktop-services.apporto.com\", port=31702, db=\"AAC\", collection=\"animals\")\n",
    "# Sample document to insert\n",
    "animal_data = {\n",
    "    \"animal_id\": \"A123456\",\n",
    "    \"name\": \"Charlie\",\n",
    "    \"breed\": \"Domestic Shorthair\",\n",
    "    \"age_upon_outcome\": \"2 years\",\n",
    "    \"outcome_type\": \"Adoption\"\n",
    "}\n",
    "\n",
    "# Insert the document into MongoDB\n",
    "create_result = mongo.create(animal_data)\n",
    "print(f\"Create operation successful: {create_result}\")\n"
   ]
  },
  {
   "cell_type": "code",
   "execution_count": 2,
   "id": "0c618fae",
   "metadata": {},
   "outputs": [
    {
     "name": "stdout",
     "output_type": "stream",
     "text": [
      "Found 4 result(s):\n",
      "{'_id': ObjectId('6712b35f8b79059ff0c2ccb7'), 'animal_id': 'A123456', 'name': 'Charlie', 'breed': 'Domestic Shorthair', 'age_upon_outcome': '2 years', 'outcome_type': 'Adoption'}\n",
      "{'_id': ObjectId('6712b3fa8b79059ff0c2ccb9'), 'animal_id': 'A123456', 'name': 'Charlie', 'breed': 'Domestic Shorthair', 'age_upon_outcome': '2 years', 'outcome_type': 'Adoption'}\n",
      "{'_id': ObjectId('6712cc5bce039adbf0b74941'), 'animal_id': 'A123456', 'name': 'Charlie', 'breed': 'Domestic Shorthair', 'age_upon_outcome': '2 years', 'outcome_type': 'Adoption'}\n",
      "{'_id': ObjectId('671587be1055eea2ede69321'), 'animal_id': 'A123456', 'name': 'Charlie', 'breed': 'Domestic Shorthair', 'age_upon_outcome': '2 years', 'outcome_type': 'Adoption'}\n"
     ]
    }
   ],
   "source": [
    "# Query for the animal I just inserted\n",
    "query = {\"animal_id\": \"A123456\"}\n",
    "results = mongo.read(query)\n",
    "\n",
    "# Display the result\n",
    "print(f\"Found {len(results)} result(s):\")\n",
    "for animal in results:\n",
    "    print(animal)\n"
   ]
  },
  {
   "cell_type": "code",
   "execution_count": 3,
   "id": "b085d91d",
   "metadata": {},
   "outputs": [
    {
     "name": "stdout",
     "output_type": "stream",
     "text": [
      "Number of documents modified: 1\n"
     ]
    }
   ],
   "source": [
    "#Update a single Document: \n",
    "query = {\"animal_id\": \"A123456\"}\n",
    "new_values = {\"outcome_type\": \"Foster\"}\n",
    "modified_count = mongo.update(query, new_values)\n",
    "print(f\"Number of documents modified: {modified_count}\")\n"
   ]
  },
  {
   "cell_type": "code",
   "execution_count": 4,
   "id": "8ae74d3d",
   "metadata": {},
   "outputs": [
    {
     "name": "stdout",
     "output_type": "stream",
     "text": [
      "Number of documents deleted: 1\n"
     ]
    }
   ],
   "source": [
    "#Delete a Single Document: \n",
    "query = {\"animal_id\": \"A123456\"}\n",
    "deleted_count = mongo.delete(query)\n",
    "print(f\"Number of documents deleted: {deleted_count}\")\n"
   ]
  },
  {
   "cell_type": "code",
   "execution_count": 5,
   "id": "a2278334",
   "metadata": {},
   "outputs": [
    {
     "name": "stdout",
     "output_type": "stream",
     "text": [
      "Retrieved 60003 documents.\n",
      "Create operation successful: True\n"
     ]
    }
   ],
   "source": [
    "# Initialize the AnimalShelter object with MongoDB credentials\n",
    "shelter = AnimalShelter(user=\"aacuser\", password=\"Jael2024\", host=\"nv-desktop-services.apporto.com\", port=31702, db=\"AAC\", collection=\"animals\")\n",
    "\n",
    "# Test the read method with an empty query (retrieve all documents)\n",
    "try:\n",
    "    all_animals = shelter.read({})\n",
    "    if all_animals:\n",
    "        print(f\"Retrieved {len(all_animals)} documents.\")\n",
    "    else:\n",
    "        print(\"No documents found.\")\n",
    "except Exception as e:\n",
    "    print(f\"Error: {e}\")\n",
    "\n",
    "# Test creating a new document\n",
    "new_animal = {\n",
    "    \"animal_id\": \"A123456\",\n",
    "    \"name\": \"Charlie\",\n",
    "    \"breed\": \"Domestic Shorthair\",\n",
    "    \"age_upon_outcome\": \"2 years\",\n",
    "    \"outcome_type\": \"Adoption\"\n",
    "}\n",
    "\n",
    "result = shelter.create(new_animal)\n",
    "print(f\"Create operation successful: {result}\")\n"
   ]
  },
  {
   "cell_type": "code",
   "execution_count": null,
   "id": "0ecb4bfd",
   "metadata": {},
   "outputs": [],
   "source": []
  }
 ],
 "metadata": {
  "kernelspec": {
   "display_name": "Python 3 (ipykernel)",
   "language": "python",
   "name": "python3"
  },
  "language_info": {
   "codemirror_mode": {
    "name": "ipython",
    "version": 3
   },
   "file_extension": ".py",
   "mimetype": "text/x-python",
   "name": "python",
   "nbconvert_exporter": "python",
   "pygments_lexer": "ipython3",
   "version": "3.9.12"
  }
 },
 "nbformat": 4,
 "nbformat_minor": 5
}
